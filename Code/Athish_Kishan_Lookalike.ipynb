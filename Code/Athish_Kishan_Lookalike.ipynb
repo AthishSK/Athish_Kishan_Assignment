{
 "cells": [
  {
   "cell_type": "code",
   "execution_count": 5,
   "metadata": {},
   "outputs": [
    {
     "name": "stdout",
     "output_type": "stream",
     "text": [
      "Lookalike model recommendations saved to Lookalike.csv\n"
     ]
    }
   ],
   "source": [
    "import pandas as pd\n",
    "import matplotlib.pyplot as plt\n",
    "import seaborn as sns\n",
    "from sklearn.preprocessing import StandardScaler\n",
    "from sklearn.metrics.pairwise import cosine_similarity\n",
    "\n",
    "customers = pd.read_csv('Data/Customers.csv')\n",
    "products = pd.read_csv('Data/Products.csv')\n",
    "transactions = pd.read_csv('Data/Transactions.csv')\n",
    "\n",
    "\n",
    "# Merge datasets\n",
    "merged_data = pd.merge(transactions, customers, on='CustomerID')\n",
    "merged_data = pd.merge(merged_data, products, on='ProductID')\n",
    "\n",
    "# Prepare features for lookalike model\n",
    "# Aggregating total spending and purchase frequency for each customer\n",
    "customer_features = merged_data.groupby('CustomerID').agg({\n",
    "    'TotalValue': 'sum',  # Total spending\n",
    "    'TransactionID': 'count',  # Number of transactions\n",
    "    'Quantity': 'sum',  # Total quantity purchased\n",
    "}).rename(columns={\n",
    "    'TotalValue': 'TotalSpending',\n",
    "    'TransactionID': 'PurchaseFrequency',\n",
    "    'Quantity': 'TotalQuantity'\n",
    "})\n",
    "\n",
    "# Standardizing features for similarity calculation\n",
    "scaler = StandardScaler()\n",
    "scaled_features = scaler.fit_transform(customer_features)\n",
    "\n",
    "# Calculate cosine similarity\n",
    "similarity_matrix = cosine_similarity(scaled_features)\n",
    "similarity_df = pd.DataFrame(similarity_matrix, index=customer_features.index, columns=customer_features.index)\n",
    "\n",
    "# Generate recommendations for the first 20 customers (C0001 to C0020)\n",
    "lookalike_results = {}\n",
    "for customer_id in customer_features.index[:20]:\n",
    "    similar_customers = similarity_df[customer_id].sort_values(ascending=False)[1:4]  # Exclude self-similarity\n",
    "    lookalike_results[customer_id] = similar_customers.to_dict()\n",
    "\n",
    "# Save results to Lookalike.csv\n",
    "lookalike_df = pd.DataFrame({\n",
    "    'CustomerID': list(lookalike_results.keys()),\n",
    "    'Recommendations': [list(recommendations.keys()) for recommendations in lookalike_results.values()],\n",
    "    'SimilarityScores': [list(recommendations.values()) for recommendations in lookalike_results.values()]\n",
    "})\n",
    "lookalike_df.to_csv('Outputs/Athish_Kishan_Lookalike.csv', index=False)\n",
    "\n",
    "print(\"Lookalike model recommendations saved to Athish_Kishan_Lookalike.csv\")"
   ]
  }
 ],
 "metadata": {
  "kernelspec": {
   "display_name": "Python 3",
   "language": "python",
   "name": "python3"
  },
  "language_info": {
   "codemirror_mode": {
    "name": "ipython",
    "version": 3
   },
   "file_extension": ".py",
   "mimetype": "text/x-python",
   "name": "python",
   "nbconvert_exporter": "python",
   "pygments_lexer": "ipython3",
   "version": "3.13.1"
  }
 },
 "nbformat": 4,
 "nbformat_minor": 2
}
